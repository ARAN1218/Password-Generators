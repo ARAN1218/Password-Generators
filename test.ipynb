{
 "cells": [
  {
   "cell_type": "code",
   "execution_count": 10,
   "metadata": {},
   "outputs": [],
   "source": [
    "import re"
   ]
  },
  {
   "cell_type": "code",
   "execution_count": 9,
   "metadata": {},
   "outputs": [
    {
     "name": "stdout",
     "output_type": "stream",
     "text": [
      "'\\u3042'\n",
      "'\\u3044'\n",
      "3093\n",
      "b'\\\\u3042'\n",
      "'8'\n",
      "b'8'\n"
     ]
    }
   ],
   "source": [
    "print(ascii('あ'))\n",
    "print(ascii('い'))\n",
    "print(int(ascii('ん')[3:-1]))\n",
    "print('あ'.encode('unicode-escape'))\n",
    "print(ascii('8'))\n",
    "print('8'.encode('unicode-escape'))"
   ]
  },
  {
   "cell_type": "code",
   "execution_count": 3,
   "metadata": {},
   "outputs": [
    {
     "data": {
      "text/plain": [
       "\"'\\\\u3044'\""
      ]
     },
     "execution_count": 3,
     "metadata": {},
     "output_type": "execute_result"
    }
   ],
   "source": [
    "ascii(\"い\")"
   ]
  },
  {
   "cell_type": "code",
   "execution_count": 16,
   "metadata": {},
   "outputs": [
    {
     "name": "stdout",
     "output_type": "stream",
     "text": [
      "97\n",
      "12354\n",
      "12356\n",
      "12435\n",
      "12450\n",
      "12452\n",
      "12531\n"
     ]
    }
   ],
   "source": [
    "print(ord(\"a\"))\n",
    "print(ord(\"あ\"))\n",
    "print(ord(\"い\"))\n",
    "print(ord(\"ん\"))\n",
    "print(ord(\"ア\"))\n",
    "print(ord(\"イ\"))\n",
    "print(ord(\"ン\"))"
   ]
  },
  {
   "cell_type": "code",
   "execution_count": 14,
   "metadata": {},
   "outputs": [
    {
     "name": "stdout",
     "output_type": "stream",
     "text": [
      "['あ', 'ぃ', 'い', 'ぅ', 'う', 'ぇ', 'え', 'ぉ', 'お', 'か', 'が', 'き', 'ぎ', 'く', 'ぐ', 'け', 'げ', 'こ', 'ご', 'さ', 'ざ', 'し', 'じ', 'す', 'ず', 'せ', 'ぜ', 'そ', 'ぞ', 'た', 'だ', 'ち', 'ぢ', 'っ', 'つ', 'づ', 'て', 'で', 'と', 'ど', 'な', 'に', 'ぬ', 'ね', 'の', 'は', 'ば', 'ぱ', 'ひ', 'び', 'ぴ', 'ふ', 'ぶ', 'ぷ', 'へ', 'べ', 'ぺ', 'ほ', 'ぼ', 'ぽ', 'ま', 'み', 'む', 'め', 'も', 'ゃ', 'や', 'ゅ', 'ゆ', 'ょ', 'よ', 'ら', 'り', 'る', 'れ', 'ろ', 'ゎ', 'わ', 'ゐ', 'ゑ', 'を', 'ん']\n"
     ]
    }
   ],
   "source": [
    "# ひらがな\n",
    "a = [chr(12354+i) for i in range(82)] #12354~12435\n",
    "print(a)"
   ]
  },
  {
   "cell_type": "code",
   "execution_count": 17,
   "metadata": {},
   "outputs": [
    {
     "name": "stdout",
     "output_type": "stream",
     "text": [
      "['ア', 'ィ', 'イ', 'ゥ', 'ウ', 'ェ', 'エ', 'ォ', 'オ', 'カ', 'ガ', 'キ', 'ギ', 'ク', 'グ', 'ケ', 'ゲ', 'コ', 'ゴ', 'サ', 'ザ', 'シ', 'ジ', 'ス', 'ズ', 'セ', 'ゼ', 'ソ', 'ゾ', 'タ', 'ダ', 'チ', 'ヂ', 'ッ', 'ツ', 'ヅ', 'テ', 'デ', 'ト', 'ド', 'ナ', 'ニ', 'ヌ', 'ネ', 'ノ', 'ハ', 'バ', 'パ', 'ヒ', 'ビ', 'ピ', 'フ', 'ブ', 'プ', 'ヘ', 'ベ', 'ペ', 'ホ', 'ボ', 'ポ', 'マ', 'ミ', 'ム', 'メ', 'モ', 'ャ', 'ヤ', 'ュ', 'ユ', 'ョ', 'ヨ', 'ラ', 'リ', 'ル', 'レ', 'ロ', 'ヮ', 'ワ', 'ヰ', 'ヱ', 'ヲ', 'ン']\n"
     ]
    }
   ],
   "source": [
    "# カタカナ\n",
    "a = [chr(12450+i) for i in range(82)] #12450~12531\n",
    "print(a)"
   ]
  },
  {
   "cell_type": "code",
   "execution_count": 24,
   "metadata": {},
   "outputs": [
    {
     "name": "stdout",
     "output_type": "stream",
     "text": [
      "['0', '1', '2', '3', '4', '5', '6', '7', '8', '9']\n"
     ]
    }
   ],
   "source": [
    "# 半角数字\n",
    "a = [chr(48+i) for i in range(10)] #48~57\n",
    "print(a)"
   ]
  },
  {
   "cell_type": "code",
   "execution_count": 33,
   "metadata": {},
   "outputs": [
    {
     "name": "stdout",
     "output_type": "stream",
     "text": [
      "74くえひxiwxびたえしおせっ\n"
     ]
    }
   ],
   "source": [
    "shift = 4\n",
    "sentence = \"30かいのtestはせいこうした\"\n",
    "def dict_generator(start,end):\n",
    "    return dict(zip([i for i in range(start,end+1)], [end+1-(start-(i+shift)) if i+shift<start else start-1+((i+shift)-end) if end<i+shift else i+shift for i in range(start,end+1)]))\n",
    "\n",
    "number_shift_dict = dict_generator(48,58) #48~57\n",
    "capital_shift_dict = dict_generator(65,90) #65~90\n",
    "noncapital_shift_dict = dict_generator(97,122) #97~122\n",
    "hiragana_shift_dict = dict_generator(12354,12435) #12354~12435\n",
    "katakana_shift_dict = dict_generator(12450,12531) #12450~12531\n",
    "\n",
    "caesar = \"\".join([chr(number_shift_dict[ord(s)])if 48<=ord(s)<=57 else \n",
    "        chr(capital_shift_dict[ord(s)]) if 65<=ord(s)<=90 else \n",
    "        chr(noncapital_shift_dict[ord(s)]) if 97<=ord(s)<=122 else \n",
    "        chr(hiragana_shift_dict[ord(s)]) if 12354<=ord(s)<=12435 else \n",
    "        chr(katakana_shift_dict[ord(s)])\n",
    "        for s in sentence])\n",
    "print(caesar)"
   ]
  },
  {
   "cell_type": "code",
   "execution_count": 12,
   "metadata": {},
   "outputs": [
    {
     "data": {
      "text/plain": [
       "28450"
      ]
     },
     "execution_count": 12,
     "metadata": {},
     "output_type": "execute_result"
    }
   ],
   "source": [
    "ord(\"漢\")"
   ]
  },
  {
   "cell_type": "code",
   "execution_count": 12,
   "metadata": {},
   "outputs": [],
   "source": [
    "s = \"1\"\n",
    "start,end = 48,57\n",
    "start,end = (48,57) if 48<=ord(s)<=57 else (65,90) if 65<=ord(s)<=90 else (97,122) if 97<=ord(s)<=122 else (12354,12435) if 12354<=ord(s)<=12435 else (12450,12531)"
   ]
  },
  {
   "cell_type": "code",
   "execution_count": null,
   "metadata": {},
   "outputs": [],
   "source": []
  }
 ],
 "metadata": {
  "kernelspec": {
   "display_name": "Python 3.7.4 ('.venv': venv)",
   "language": "python",
   "name": "python3"
  },
  "language_info": {
   "codemirror_mode": {
    "name": "ipython",
    "version": 3
   },
   "file_extension": ".py",
   "mimetype": "text/x-python",
   "name": "python",
   "nbconvert_exporter": "python",
   "pygments_lexer": "ipython3",
   "version": "3.7.4"
  },
  "orig_nbformat": 4,
  "vscode": {
   "interpreter": {
    "hash": "95af9f56524cb19e114a8c96d961d8243ea12ed2a5ad2fcb982e3111e3eee451"
   }
  }
 },
 "nbformat": 4,
 "nbformat_minor": 2
}
